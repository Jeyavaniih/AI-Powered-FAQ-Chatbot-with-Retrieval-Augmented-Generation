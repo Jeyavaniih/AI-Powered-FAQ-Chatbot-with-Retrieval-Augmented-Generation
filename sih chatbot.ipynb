{
 "cells": [
  {
   "cell_type": "markdown",
   "id": "32f265f1-e880-427e-a86f-262c97fe877c",
   "metadata": {},
   "source": [
    "Import the required dependencies"
   ]
  },
  {
   "cell_type": "code",
   "execution_count": null,
   "id": "ce1f527c-4927-4c87-8252-354f124e99f9",
   "metadata": {},
   "outputs": [],
   "source": [
    "import os\n",
    "import gradio as gr\n",
    "from langchain_community.llms import Ollama\n",
    "from langchain.document_loaders import UnstructuredFileLoader\n",
    "from langchain_community.vectorstores import FAISS\n",
    "from langchain.embeddings import HuggingFaceEmbeddings\n",
    "from langchain.text_splitter import CharacterTextSplitter\n",
    "from langchain.chains import RetrievalQA\n",
    "from langchain.document_loaders import DirectoryLoader\n",
    "from langchain.document_loaders import PyPDFLoader"
   ]
  },
  {
   "cell_type": "markdown",
   "id": "8cecc6c1-dd31-48e0-a928-22fb3331dabe",
   "metadata": {},
   "source": [
    "Load the files from knowledge base"
   ]
  },
  {
   "cell_type": "code",
   "execution_count": 2,
   "id": "976a559d-50ac-45a2-ac03-5d8e76d71a28",
   "metadata": {},
   "outputs": [],
   "source": [
    "def load_pdfs_from_directory(directory_path):\n",
    "    documents = []\n",
    "    for filename in os.listdir(directory_path):\n",
    "        if filename.endswith('.pdf'):\n",
    "            file_path = os.path.join(directory_path, filename)\n",
    "            loader = PyPDFLoader(file_path)\n",
    "            documents.extend(loader.load())\n",
    "    return documents\n"
   ]
  },
  {
   "cell_type": "code",
   "execution_count": null,
   "id": "8e28b867-13ef-40b0-a91b-4f28d493c288",
   "metadata": {},
   "outputs": [],
   "source": [
    "pdf_directory = \"sih manuals\"\n",
    "loaded_documents = load_pdfs_from_directory(pdf_directory)"
   ]
  },
  {
   "cell_type": "markdown",
   "id": "e98ec41e-0ad7-4daa-a921-9885ecb9e1ce",
   "metadata": {},
   "source": [
    "Import the llama3:8b model"
   ]
  },
  {
   "cell_type": "code",
   "execution_count": 4,
   "id": "c4e5e17c-1700-4392-bd39-0dfe4cf31917",
   "metadata": {},
   "outputs": [],
   "source": [
    "llm = Ollama(\n",
    "    model=\"llama3:8b\",\n",
    "    temperature=0\n",
    ")"
   ]
  },
  {
   "cell_type": "markdown",
   "id": "262ed2e6-3c49-49be-a987-fcbe93ddcc28",
   "metadata": {},
   "source": [
    "split the documents into chunks using CharacterTextSplitter"
   ]
  },
  {
   "cell_type": "code",
   "execution_count": 5,
   "id": "9164c1f8-ff67-4d9f-8644-97492bda5ea3",
   "metadata": {},
   "outputs": [],
   "source": [
    "text_splitter = CharacterTextSplitter(separator=\"/n\", chunk_size=1500, chunk_overlap=200)\n",
    "text_chunks = text_splitter.split_documents(loaded_documents)"
   ]
  },
  {
   "cell_type": "code",
   "execution_count": null,
   "id": "8fdaa7c5-8ae3-4907-a4a8-bdd87ff58673",
   "metadata": {},
   "outputs": [],
   "source": [
    "Convert the chunks into embeddings using sentence transformer model"
   ]
  },
  {
   "cell_type": "code",
   "execution_count": null,
   "id": "0aaa9ea3-3f67-4107-af4f-88d7e7bb3f54",
   "metadata": {},
   "outputs": [],
   "source": [
    "embeddings = HuggingFaceEmbeddings(model_name=\"sentence-transformers/all-MiniLM-L6-v2\")\n",
    "knowledge_base = FAISS.from_documents(text_chunks, embeddings)"
   ]
  },
  {
   "cell_type": "code",
   "execution_count": 7,
   "id": "25292add-b289-4746-9fcc-133528c4a985",
   "metadata": {},
   "outputs": [],
   "source": [
    "qa_chain = RetrievalQA.from_chain_type(\n",
    "    llm,\n",
    "    retriever=knowledge_base.as_retriever())"
   ]
  },
  {
   "cell_type": "code",
   "execution_count": null,
   "id": "0c2ea4f1-bd46-4844-a897-f47ca3ad77cc",
   "metadata": {},
   "outputs": [],
   "source": [
    "Retrieval "
   ]
  },
  {
   "cell_type": "code",
   "execution_count": 8,
   "id": "bac9ed1f-fbb6-4797-b93f-70de8bb8c791",
   "metadata": {},
   "outputs": [
    {
     "name": "stdout",
     "output_type": "stream",
     "text": [
      "According to Section 4 of the handbook, Employment Classification, there are three types of employment classifications:\n",
      "\n",
      "* Exempt\n",
      "* Non-Exempt\n",
      "* Part-Time, Full-Time or Temporary Status\n",
      "\n",
      "This information is provided in subsections 4.1, 4.2, and 4.3, respectively.\n"
     ]
    }
   ],
   "source": [
    "question = \"explain about the employment classification ?\"\n",
    "response = qa_chain.invoke({\"query\": question})\n",
    "print(response[\"result\"])"
   ]
  },
  {
   "cell_type": "code",
   "execution_count": 9,
   "id": "99c1c83b-c988-4b92-9964-5a8d61586b8d",
   "metadata": {},
   "outputs": [
    {
     "name": "stdout",
     "output_type": "stream",
     "text": [
      "According to the provided context, the recruitment and selection process at this company involves the following steps:\n",
      "\n",
      "1. Screen and interview candidates\n",
      "2. Run background checks and check references\n",
      "3. Select the most suitable candidate\n",
      "4. Make an official offer\n",
      "\n",
      "These steps may overlap, so it's possible that some steps might be skipped or done simultaneously. Each member of a hiring team may have different responsibilities, such as recruiters sourcing candidates and hiring managers interviewing candidates.\n",
      "\n",
      "Additionally, the company aims to keep candidates informed throughout the process, communicate well with each other, and give everyone an equal opportunity to work with them.\n"
     ]
    }
   ],
   "source": [
    "question = \"explain about the Recruitment and selection process ?\"\n",
    "response = qa_chain.invoke({\"query\": question})\n",
    "print(response[\"result\"])"
   ]
  },
  {
   "cell_type": "code",
   "execution_count": 10,
   "id": "5b1a4df8-f753-45fb-bb11-e179243deb4b",
   "metadata": {},
   "outputs": [
    {
     "name": "stdout",
     "output_type": "stream",
     "text": [
      "According to the provided context, the company takes every reasonable precaution to ensure that employees have a safe working environment. The company has a workplace safety policy that includes:\n",
      "\n",
      "* Conducting risk assessments and job hazard analyses through a workplace safety committee\n",
      "* Establishing preventative measures to address risks accordingly\n",
      "* Providing protective gear like gloves, protective uniforms, and goggles\n",
      "* Directing inspectors and quality control employees to evaluate equipment and infrastructure regularly\n",
      "\n",
      "The company also expects employees to take safety seriously by always using protective equipment and following standards whenever necessary. If an employee deliberately disregards the guidelines, they may be terminated for their own and others' safety.\n",
      "\n",
      "Additionally, the company has emergency management provisions in place, including functional smoke alarms and sprinklers that are regularly inspected, technicians available to repair leakages, damages, and blackouts quickly, and fire extinguishers and other fire protection equipment that are easily accessible.\n"
     ]
    }
   ],
   "source": [
    "question = \"Mention about the health and safety at the workplace ?\"\n",
    "response = qa_chain.invoke({\"query\": question})\n",
    "print(response[\"result\"])"
   ]
  },
  {
   "cell_type": "code",
   "execution_count": 13,
   "id": "9c23502e-8d05-4d20-b4ef-b504b7f11f08",
   "metadata": {},
   "outputs": [
    {
     "name": "stdout",
     "output_type": "stream",
     "text": [
      "According to the provided context, the workplace policies are outlined in Section 2 - Workplace Commitments and Section 3 - Company Policy and Procedures.\n",
      "\n",
      "Section 2 covers:\n",
      "\n",
      "* Equal Opportunity Employment\n",
      "* Non-Harassment / Non-Discrimination\n",
      "* Drug Free / Alcohol Free\n",
      "* Open Door Policy\n",
      "\n",
      "Section 3 covers:\n",
      "\n",
      "* Code of Professional Conduct\n",
      "* Dress Code\n",
      "* Payday\n",
      "* Company Property\n",
      "* Privacy\n",
      "* Personnel Files\n",
      "\n",
      "These policies aim to establish a positive and productive work environment, ensuring that employees are treated fairly and with respect.\n"
     ]
    }
   ],
   "source": [
    "question = \"explain about the workplace policies ?\"\n",
    "response = qa_chain.invoke({\"query\": question})\n",
    "print(response[\"result\"])"
   ]
  },
  {
   "cell_type": "code",
   "execution_count": 10,
   "id": "d2988c4c-fe8a-4902-9d8b-d259e8289bf4",
   "metadata": {},
   "outputs": [],
   "source": [
    "from langchain.memory import ConversationBufferMemory\n"
   ]
  },
  {
   "cell_type": "code",
   "execution_count": 11,
   "id": "a41bd34d-bc08-423b-b3ca-11f02efc971b",
   "metadata": {},
   "outputs": [],
   "source": [
    "memory = ConversationBufferMemory(memory_key=\"chat_history\", return_messages=True, output_key=\"result\")"
   ]
  },
  {
   "cell_type": "code",
   "execution_count": 12,
   "id": "ec867ead-b386-41ee-be3f-32ee6bb9f1e0",
   "metadata": {},
   "outputs": [],
   "source": [
    "qa_chain = RetrievalQA.from_chain_type(\n",
    "    llm,\n",
    "    retriever=knowledge_base.as_retriever(),\n",
    "    memory=memory,\n",
    "    return_source_documents=True  # Optional: If you want to show retrieved documents as well\n",
    ")"
   ]
  },
  {
   "cell_type": "code",
   "execution_count": 13,
   "id": "c127268a-ecd3-4052-97cc-3317b192d081",
   "metadata": {},
   "outputs": [],
   "source": [
    "def chatbot_interface(question, history):\n",
    "    # If there's history, append the previous conversation\n",
    "    if history is None:\n",
    "        history = []\n",
    "\n",
    "    # Use the QA chain to generate a response\n",
    "    response = qa_chain({\"query\": question, \"chat_history\": history})\n",
    "    \n",
    "    # Append the question and response to the history\n",
    "    history.append((question, response[\"result\"]))\n",
    "\n",
    "    # Return the updated history\n",
    "    return history, history"
   ]
  },
  {
   "cell_type": "code",
   "execution_count": 14,
   "id": "c9b7bcad-dcd7-47b6-be8a-7566ee4ca9eb",
   "metadata": {},
   "outputs": [],
   "source": [
    "with gr.Blocks() as interface:\n",
    "    chatbot = gr.Chatbot()\n",
    "    with gr.Row():\n",
    "        msg = gr.Textbox(show_label=False, placeholder=\"Enter your question...\")\n",
    "        submit = gr.Button(\"Send\")\n",
    "    \n",
    "    # Display chat history\n",
    "    clear = gr.Button(\"Clear\")\n",
    "\n",
    "    # When the user clicks \"Send\"\n",
    "    submit.click(chatbot_interface, [msg, chatbot], [chatbot, chatbot])\n",
    "\n",
    "    # Clear the chat history when \"Clear\" is clicked\n",
    "    clear.click(lambda: None, None, chatbot)"
   ]
  },
  {
   "cell_type": "code",
   "execution_count": null,
   "id": "d3148f00-0dbc-4135-b9bf-1fcd3f81a1c7",
   "metadata": {},
   "outputs": [],
   "source": [
    "import pdfplumber\n",
    "\n",
    "def extract_text_from_pdfs(pdf_directory):\n",
    "    texts = []\n",
    "    for filename in os.listdir(pdf_directory):\n",
    "        if filename.endswith('.pdf'):\n",
    "            file_path = os.path.join(pdf_directory, filename)\n",
    "            with pdfplumber.open(file_path) as pdf:\n",
    "                for page in pdf.pages:\n",
    "                    texts.append(page.extract_text())\n",
    "    return texts\n",
    "\n",
    "# Path to the directory containing your ground truth PDFs\n",
    "pdf_directory = \"sih manuals\"\n",
    "pdf_texts = extract_text_from_pdfs(pdf_directory)"
   ]
  },
  {
   "cell_type": "code",
   "execution_count": 17,
   "id": "126455f7-e438-4fdd-aaf3-a90187e7082d",
   "metadata": {},
   "outputs": [],
   "source": [
    "import pdfplumber\n",
    "\n",
    "def extract_text_from_pdfs(pdf_directory):\n",
    "    texts = []\n",
    "    for filename in os.listdir(pdf_directory):\n",
    "        if filename.endswith('.pdf'):\n",
    "            file_path = os.path.join(pdf_directory, filename)\n",
    "            with pdfplumber.open(file_path) as pdf:\n",
    "                for page in pdf.pages:\n",
    "                    texts.append(page.extract_text())\n",
    "    return texts\n",
    "\n",
    "# Path to the directory containing your ground truth PDFs\n",
    "pdf_directory = \"sih manuals\"\n",
    "pdf_texts = extract_text_from_pdfs(pdf_directory)"
   ]
  },
  {
   "cell_type": "code",
   "execution_count": 18,
   "id": "a37a339b-a404-4e45-a33b-da0c235a812b",
   "metadata": {},
   "outputs": [],
   "source": [
    "def parse_ground_truth(texts):\n",
    "    # Implement parsing logic here\n",
    "    # For this example, assume each text contains question-answer pairs separated by newlines\n",
    "    ground_truth_data = []\n",
    "    for text in texts:\n",
    "        lines = text.split('\\n')\n",
    "        for i in range(0, len(lines) - 1, 2):  # Assuming Q&A pairs are on successive lines\n",
    "            question = lines[i].strip()\n",
    "            answer = lines[i + 1].strip()\n",
    "            ground_truth_data.append({\"question\": question, \"answer\": answer})\n",
    "    return ground_truth_data\n",
    "\n",
    "ground_truth_data = parse_ground_truth(pdf_texts)"
   ]
  },
  {
   "cell_type": "code",
   "execution_count": null,
   "id": "a8973d4d-0207-4f4e-affa-20bf98541f46",
   "metadata": {},
   "outputs": [],
   "source": [
    "def evaluate_accuracy(qa_chain, ground_truth_data):\n",
    "    correct_count = 0\n",
    "    total_count = len(ground_truth_data)\n",
    "\n",
    "    for data in ground_truth_data:\n",
    "        question = data[\"question\"]\n",
    "        correct_answer = data[\"answer\"]\n",
    "        response = qa_chain.invoke({\"query\": question})[\"result\"]\n",
    "        \n",
    "        # For simplicity, perform a case-insensitive comparison\n",
    "        if response.strip().lower() == correct_answer.strip().lower():\n",
    "            correct_count += 1\n",
    "\n",
    "    accuracy = (correct_count / total_count) * 100\n",
    "    return accuracy\n",
    "\n",
    "# Assuming you have already defined and set up your QA chain\n",
    "# qa_chain = RetrievalQA.from_chain_type(llm, retriever=knowledge_base.as_retriever())\n",
    "\n",
    "# Evaluate the accuracy\n",
    "accuracy = evaluate_accuracy(qa_chain, ground_truth_data)\n",
    "print(f\"Accuracy: {accuracy:.2f}%\")"
   ]
  }
 ],
 "metadata": {
  "kernelspec": {
   "display_name": "Python 3 (ipykernel)",
   "language": "python",
   "name": "python3"
  },
  "language_info": {
   "codemirror_mode": {
    "name": "ipython",
    "version": 3
   },
   "file_extension": ".py",
   "mimetype": "text/x-python",
   "name": "python",
   "nbconvert_exporter": "python",
   "pygments_lexer": "ipython3",
   "version": "3.12.2"
  }
 },
 "nbformat": 4,
 "nbformat_minor": 5
}
